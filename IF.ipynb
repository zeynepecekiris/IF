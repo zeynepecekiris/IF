{
 "cells": [
  {
   "cell_type": "code",
   "execution_count": 1,
   "id": "31474069-a7a0-4e10-875a-d8713549b597",
   "metadata": {},
   "outputs": [],
   "source": [
    "my_hero = \"batman\""
   ]
  },
  {
   "cell_type": "code",
   "execution_count": 13,
   "id": "a9b97138-346d-4d55-a053-1f7a45bf5b21",
   "metadata": {},
   "outputs": [
    {
     "name": "stdout",
     "output_type": "stream",
     "text": [
      "harika\n"
     ]
    }
   ],
   "source": [
    "if my_hero  == \"batman\":\n",
    "    print(\"harika\")"
   ]
  },
  {
   "cell_type": "code",
   "execution_count": 15,
   "id": "e3703991-efa7-4d53-97f6-2da86e04eac1",
   "metadata": {},
   "outputs": [],
   "source": [
    "x = 5"
   ]
  },
  {
   "cell_type": "code",
   "execution_count": 17,
   "id": "dc53d4ed-6571-44d2-a340-defd7e09db5c",
   "metadata": {},
   "outputs": [
    {
     "name": "stdout",
     "output_type": "stream",
     "text": [
      "k\n"
     ]
    }
   ],
   "source": [
    "if x == 5:\n",
    "    print('k')"
   ]
  },
  {
   "cell_type": "code",
   "execution_count": 19,
   "id": "bb60b432-43bc-4c99-8bc1-690151d64286",
   "metadata": {},
   "outputs": [],
   "source": [
    "y = 4"
   ]
  },
  {
   "cell_type": "code",
   "execution_count": 21,
   "id": "0c2eebba-3fa5-4e71-86d9-a242199e81b7",
   "metadata": {},
   "outputs": [
    {
     "name": "stdout",
     "output_type": "stream",
     "text": [
      "p\n"
     ]
    }
   ],
   "source": [
    "if y == 4:\n",
    "    print ('p')"
   ]
  },
  {
   "cell_type": "code",
   "execution_count": 23,
   "id": "40e04557-b382-4dbf-8972-d906d15cb7dd",
   "metadata": {},
   "outputs": [],
   "source": [
    "asfdsdf = 54"
   ]
  },
  {
   "cell_type": "code",
   "execution_count": 25,
   "id": "a917a578-323e-48ef-9c3d-ec463bff860d",
   "metadata": {},
   "outputs": [
    {
     "name": "stdout",
     "output_type": "stream",
     "text": [
      "jksdfh\n"
     ]
    }
   ],
   "source": [
    "if asfdsdf == 54:\n",
    "    print(\"jksdfh\")"
   ]
  },
  {
   "cell_type": "code",
   "execution_count": 27,
   "id": "c7f28d8a-7433-49dc-96b3-574d28ef5c9d",
   "metadata": {},
   "outputs": [
    {
     "name": "stdout",
     "output_type": "stream",
     "text": [
      "ece\n",
      "mia\n"
     ]
    }
   ],
   "source": [
    "if 3<8:\n",
    "    print(\"ece\")\n",
    "    print(\"mia\")"
   ]
  },
  {
   "cell_type": "code",
   "execution_count": 51,
   "id": "3deb4d09-c3d8-41b6-8d39-80e5213af32e",
   "metadata": {},
   "outputs": [
    {
     "name": "stdin",
     "output_type": "stream",
     "text": [
      "enter super hero wondar woman\n"
     ]
    }
   ],
   "source": [
    "my_superhero = input(\"enter super hero\")"
   ]
  },
  {
   "cell_type": "code",
   "execution_count": 55,
   "id": "6b563cdf-d514-481c-80d6-a0a56e3392d0",
   "metadata": {},
   "outputs": [
    {
     "name": "stdout",
     "output_type": "stream",
     "text": [
      ":(\n"
     ]
    }
   ],
   "source": [
    "if my_superhero == \"aquaman\" :\n",
    "    print (\"aquaman\")\n",
    "elif my_superhero == \"superman\":\n",
    "    print('superman')\n",
    "elif my_superhero == \"batman\":\n",
    "    print(\"batman\")\n",
    "else: print( \":(\")"
   ]
  },
  {
   "cell_type": "code",
   "execution_count": 69,
   "id": "e4d2e97c-1948-4e58-b2e3-c6bd14d215dc",
   "metadata": {},
   "outputs": [],
   "source": [
    "age = 20"
   ]
  },
  {
   "cell_type": "code",
   "execution_count": 71,
   "id": "23b98edf-3bad-4fc6-85d9-647b5ef16f62",
   "metadata": {},
   "outputs": [
    {
     "name": "stdout",
     "output_type": "stream",
     "text": [
      " 18 - age -30\n"
     ]
    }
   ],
   "source": [
    "if age == 18:\n",
    "    print(\"age 18\")\n",
    "elif age > 18 and age <=30:\n",
    "    print(\" 18 - age -30\")\n",
    "elif age >= 30 and age<=60:\n",
    "    print(\" 30 - age - 60\")\n",
    "else: print( \" :(\")\n",
    "\n"
   ]
  },
  {
   "cell_type": "code",
   "execution_count": 81,
   "id": "f72c1105-7222-4df5-8735-281596ea7187",
   "metadata": {},
   "outputs": [],
   "source": [
    "price = 300"
   ]
  },
  {
   "cell_type": "code",
   "execution_count": 83,
   "id": "e7a71bcc-d8ea-41a0-b3b1-e6e0b9a39605",
   "metadata": {},
   "outputs": [
    {
     "name": "stdout",
     "output_type": "stream",
     "text": [
      "price between 201 and 300\n"
     ]
    }
   ],
   "source": [
    "if price == 100 :\n",
    "    print (\"price 100\")\n",
    "elif price>100 and price<=200:\n",
    "    print(\"price between 100 and 200\")\n",
    "elif price >201 and price <= 300:\n",
    "    print(\"price between 201 and 300\")\n",
    "else: print (\" its expensive\")"
   ]
  },
  {
   "cell_type": "code",
   "execution_count": 85,
   "id": "0a58076c-1fcd-4ed0-a456-e29dbb89e537",
   "metadata": {},
   "outputs": [],
   "source": [
    "super_hero = \"spiderman\""
   ]
  },
  {
   "cell_type": "code",
   "execution_count": 89,
   "id": "d01cb474-cf29-462d-973c-de73d9f5de23",
   "metadata": {},
   "outputs": [],
   "source": [
    "super_hero_list = [\"superman\", \"hulk\", \"spiderman\", \"wonderwoman\"]"
   ]
  },
  {
   "cell_type": "code",
   "execution_count": 91,
   "id": "3c7f29d0-0cd8-40cc-8d6a-15f805727089",
   "metadata": {},
   "outputs": [
    {
     "name": "stdout",
     "output_type": "stream",
     "text": [
      " :) \n"
     ]
    }
   ],
   "source": [
    "if super_hero in super_hero_list:\n",
    "    print (\" :) \")\n",
    "else: print (\" :( \")"
   ]
  },
  {
   "cell_type": "code",
   "execution_count": null,
   "id": "a15deec7-beff-496e-860a-1ebf377b2446",
   "metadata": {},
   "outputs": [],
   "source": []
  }
 ],
 "metadata": {
  "kernelspec": {
   "display_name": "Python 3 (ipykernel)",
   "language": "python",
   "name": "python3"
  },
  "language_info": {
   "codemirror_mode": {
    "name": "ipython",
    "version": 3
   },
   "file_extension": ".py",
   "mimetype": "text/x-python",
   "name": "python",
   "nbconvert_exporter": "python",
   "pygments_lexer": "ipython3",
   "version": "3.12.7"
  }
 },
 "nbformat": 4,
 "nbformat_minor": 5
}
